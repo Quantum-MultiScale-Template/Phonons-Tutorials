{
 "cells": [
  {
   "cell_type": "code",
   "execution_count": null,
   "metadata": {},
   "outputs": [],
   "source": [
    "import os\n",
    "import numpy as np\n",
    "import matplotlib.pyplot as plt\n",
    "#\n",
    "# ASE is a very convenient module for setting up simulations on molecules and \n",
    "# bulk materials\n",
    "#\n",
    "from ase.io import read, write\n",
    "from ase.build import molecule\n",
    "from ase.visualize import view\n",
    "from ase.calculators.espresso import Espresso"
   ]
  },
  {
   "cell_type": "code",
   "execution_count": null,
   "metadata": {},
   "outputs": [],
   "source": [
    "os.environ['ASE_ESPRESSO_COMMAND'] = \"mpirun -np 4 /Users/olivieroandreussi/PWSCF/qe-git/bin/pw.x -in PREFIX.pwi > PREFIX.pwo\"\n",
    "os.environ['OMP_NUM_THREADS'] = \"1\""
   ]
  },
  {
   "cell_type": "code",
   "execution_count": null,
   "metadata": {},
   "outputs": [],
   "source": [
    "eV2Ry = 13.605662285137 # energy conversion factor\n",
    "eV2kcal_mol = 23.0609 # energy conversion factor\n",
    "bohr2ang = 0.5291772 # length conversion factor\n",
    "ang2bohr = 1./bohr2ang"
   ]
  },
  {
   "cell_type": "code",
   "execution_count": null,
   "metadata": {},
   "outputs": [],
   "source": [
    "atoms = molecule('H2O')\n",
    "view(atoms, viewer=\"x3d\")"
   ]
  },
  {
   "cell_type": "code",
   "execution_count": null,
   "metadata": {},
   "outputs": [],
   "source": [
    "atoms.set_cell(15. * np.identity(3))\n",
    "atoms.set_pbc((True, True, True))\n",
    "atoms.center()"
   ]
  },
  {
   "cell_type": "code",
   "execution_count": null,
   "metadata": {},
   "outputs": [],
   "source": [
    "pseudopotentials = {\n",
    "    \"H\":\"H.pbe-rrkjus.UPF\",\n",
    "    \"O\":\"O.pbe-rrkjus.UPF\"\n",
    "}"
   ]
  },
  {
   "cell_type": "code",
   "execution_count": null,
   "metadata": {},
   "outputs": [],
   "source": [
    "input_data = {\n",
    "    'control': {\n",
    "        'restart_mode': 'from_scratch',\n",
    "        'pseudo_dir': '/Users/olivieroandreussi/PWSCF/qe-7.2/pseudo',\n",
    "        'calculation': 'relax',\n",
    "        'prefix': 'H2O_vacuum'\n",
    "    },\n",
    "    'system': {\n",
    "        'ecutwfc': 30,\n",
    "        'ecutrho': 300\n",
    "    },\n",
    "    'electrons': {\n",
    "        'diagonalization':'david',\n",
    "        'conv_thr': 1.0e-8, \n",
    "        'mixing_beta': 0.4\n",
    "    }\n",
    "} \n",
    "\n",
    "calc = Espresso(\n",
    "    pseudopotentials=pseudopotentials,\n",
    "    tstress=True, tprnfor=True, \n",
    "    input_data = input_data,\n",
    "    kpts=(1,1,1),\n",
    "    koffset=(0,0,0))\n",
    "\n",
    "atoms.calc = calc"
   ]
  },
  {
   "cell_type": "code",
   "execution_count": null,
   "metadata": {},
   "outputs": [],
   "source": [
    "energy = atoms.get_potential_energy()\n",
    "print(f\"Energy in vacuum = {energy:.3f} eV\")"
   ]
  },
  {
   "cell_type": "code",
   "execution_count": null,
   "metadata": {},
   "outputs": [],
   "source": [
    "relaxed_atoms = read('./espresso.pwo',format='espresso-out')"
   ]
  },
  {
   "cell_type": "code",
   "execution_count": null,
   "metadata": {},
   "outputs": [],
   "source": [
    "atoms.positions"
   ]
  },
  {
   "cell_type": "code",
   "execution_count": null,
   "metadata": {},
   "outputs": [],
   "source": [
    "relaxed_atoms.positions"
   ]
  },
  {
   "cell_type": "markdown",
   "metadata": {},
   "source": [
    "# Use ASE for Geometry Optimization"
   ]
  },
  {
   "cell_type": "code",
   "execution_count": null,
   "metadata": {},
   "outputs": [],
   "source": [
    "from ase.optimize import BFGS"
   ]
  },
  {
   "cell_type": "code",
   "execution_count": null,
   "metadata": {},
   "outputs": [],
   "source": [
    "atoms = molecule('H2O')\n",
    "atoms.set_cell(15. * np.identity(3))\n",
    "atoms.set_pbc((True, True, True))\n",
    "atoms.center()"
   ]
  },
  {
   "cell_type": "code",
   "execution_count": null,
   "metadata": {},
   "outputs": [],
   "source": [
    "input_data = {\n",
    "    'control': {\n",
    "        'restart_mode': 'from_scratch',\n",
    "        'pseudo_dir': '/Users/olivieroandreussi/PWSCF/qe-7.2/pseudo',\n",
    "        'calculation': 'scf',\n",
    "        'prefix': 'H2O_vacuum'\n",
    "    },\n",
    "    'system': {\n",
    "        'ecutwfc': 30,\n",
    "        'ecutrho': 300\n",
    "    },\n",
    "    'electrons': {\n",
    "        'diagonalization':'david',\n",
    "        'conv_thr': 1.0e-8, \n",
    "        'mixing_beta': 0.4\n",
    "    }\n",
    "} \n",
    "\n",
    "calc = Espresso(\n",
    "    pseudopotentials=pseudopotentials,\n",
    "    tstress=True, tprnfor=True, \n",
    "    input_data = input_data,\n",
    "    kpts=(1,1,1),\n",
    "    koffset=(0,0,0))\n",
    "\n",
    "atoms.calc = calc"
   ]
  },
  {
   "cell_type": "code",
   "execution_count": null,
   "metadata": {},
   "outputs": [],
   "source": [
    "optimization = BFGS(atoms,trajectory='H2O-opt.traj')\n",
    "optimization.run(fmax=0.001)"
   ]
  },
  {
   "cell_type": "code",
   "execution_count": null,
   "metadata": {},
   "outputs": [],
   "source": [
    "atoms.positions"
   ]
  },
  {
   "cell_type": "markdown",
   "metadata": {},
   "source": [
    "# Use ASE for Phonons Calculations"
   ]
  },
  {
   "cell_type": "code",
   "execution_count": null,
   "metadata": {},
   "outputs": [],
   "source": [
    "from ase.phonons import Phonons"
   ]
  },
  {
   "cell_type": "code",
   "execution_count": null,
   "metadata": {},
   "outputs": [],
   "source": [
    "# Phonon calculator\n",
    "N = 1\n",
    "ph = Phonons(atoms, calc, supercell=(N, N, N), delta=0.05)\n",
    "ph.run()\n"
   ]
  },
  {
   "cell_type": "code",
   "execution_count": null,
   "metadata": {},
   "outputs": [],
   "source": []
  }
 ],
 "metadata": {
  "kernelspec": {
   "display_name": "Python 3",
   "language": "python",
   "name": "python3"
  },
  "language_info": {
   "codemirror_mode": {
    "name": "ipython",
    "version": 3
   },
   "file_extension": ".py",
   "mimetype": "text/x-python",
   "name": "python",
   "nbconvert_exporter": "python",
   "pygments_lexer": "ipython3",
   "version": "3.9.6"
  }
 },
 "nbformat": 4,
 "nbformat_minor": 2
}
